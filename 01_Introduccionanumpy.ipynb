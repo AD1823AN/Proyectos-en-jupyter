{
 "cells": [
  {
   "cell_type": "markdown",
   "id": "9ba67815",
   "metadata": {},
   "source": [
    "# Introduccion a numpy"
   ]
  },
  {
   "cell_type": "markdown",
   "id": "858e6320",
   "metadata": {},
   "source": [
    "[Numpy](https://numpy.org/) es una libreria fundamental para la computacion cientifica con python.\n",
    "* proporciona arrays N-dimencionales.\n",
    "* implemeta funciones matematicas sofisticada \n",
    "* proporciona herramientas para integrar c/c++ y fortran \n",
    "* proporciona mecanismos para facilitar la realisacion de tareas relacionadas con algebra linial o numeros aleatorios  "
   ]
  },
  {
   "cell_type": "markdown",
   "id": "faa045cb",
   "metadata": {},
   "source": [
    "## import"
   ]
  },
  {
   "cell_type": "code",
   "execution_count": 1,
   "id": "c64d558d",
   "metadata": {},
   "outputs": [],
   "source": [
    "import numpy as np"
   ]
  },
  {
   "cell_type": "markdown",
   "id": "3711219b",
   "metadata": {},
   "source": [
    "un ** array ** es un a estructura de datos que consiste en una coleccion de elementos (valores o variables ),\n",
    "cada uno identificado por almenos un indice o clave.Un array se almacena de modo que la posicion de cada elemento se puede \n",
    "calcular apartir de su tupla de indice mediante una formula matematica.El tipo mas simple del array es un array linial\n",
    "tambien llamado array unidimencional."
   ]
  },
  {
   "cell_type": "markdown",
   "id": "eaa40417",
   "metadata": {},
   "source": [
    "En Numpy :\n",
    "    * Cada dimencion se denomina **axis**\n",
    "    El numero de dimenciones se denomina **rank**\n",
    "    * La lista de dimenciones  con su correspondiente longitud se denomina **shape**\n",
    "    * El numero total de elementos (multiplicacion de las dimenciones )se denomina **zize**"
   ]
  },
  {
   "cell_type": "code",
   "execution_count": 12,
   "id": "bd316eb6",
   "metadata": {},
   "outputs": [],
   "source": [
    "## array cuyo valores son todo 0\n",
    "a=np.zeros((2,4))"
   ]
  },
  {
   "cell_type": "code",
   "execution_count": 3,
   "id": "3c231884",
   "metadata": {},
   "outputs": [
    {
     "data": {
      "text/plain": [
       "array([[0., 0., 0., 0.],\n",
       "       [0., 0., 0., 0.]])"
      ]
     },
     "execution_count": 3,
     "metadata": {},
     "output_type": "execute_result"
    }
   ],
   "source": [
    "a"
   ]
  },
  {
   "cell_type": "code",
   "execution_count": 61,
   "id": "16f0d241",
   "metadata": {},
   "outputs": [
    {
     "ename": "SyntaxError",
     "evalue": "invalid syntax (1084862640.py, line 1)",
     "output_type": "error",
     "traceback": [
      "\u001b[0;36m  Cell \u001b[0;32mIn[61], line 1\u001b[0;36m\u001b[0m\n\u001b[0;31m    **a**es un array:\u001b[0m\n\u001b[0m    ^\u001b[0m\n\u001b[0;31mSyntaxError\u001b[0m\u001b[0;31m:\u001b[0m invalid syntax\n"
     ]
    }
   ],
   "source": [
    "**a**,es un array:\n",
    "* Con dos **axis**, el primero de longitud 2 y el segundo de longitud 4.\n",
    "* Con un **rank** igual a 2.\n",
    "*Con un **shape** igual (2,4).\n",
    "* Con un **zize** igual a 8."
   ]
  },
  {
   "cell_type": "code",
   "execution_count": 14,
   "id": "976d27aa",
   "metadata": {},
   "outputs": [
    {
     "data": {
      "text/plain": [
       "(2, 4)"
      ]
     },
     "execution_count": 14,
     "metadata": {},
     "output_type": "execute_result"
    }
   ],
   "source": [
    "a.shape"
   ]
  },
  {
   "cell_type": "code",
   "execution_count": 15,
   "id": "6b5e37cf",
   "metadata": {},
   "outputs": [
    {
     "data": {
      "text/plain": [
       "2"
      ]
     },
     "execution_count": 15,
     "metadata": {},
     "output_type": "execute_result"
    }
   ],
   "source": [
    "a.ndim"
   ]
  },
  {
   "cell_type": "code",
   "execution_count": 16,
   "id": "e6abb618",
   "metadata": {},
   "outputs": [
    {
     "data": {
      "text/plain": [
       "8"
      ]
     },
     "execution_count": 16,
     "metadata": {},
     "output_type": "execute_result"
    }
   ],
   "source": [
    "a.size"
   ]
  },
  {
   "cell_type": "code",
   "execution_count": 17,
   "id": "f2a766a9",
   "metadata": {},
   "outputs": [],
   "source": [
    "## Creacion de arrays "
   ]
  },
  {
   "cell_type": "code",
   "execution_count": 18,
   "id": "66031fb8",
   "metadata": {},
   "outputs": [
    {
     "data": {
      "text/plain": [
       "array([[[0., 0., 0., 0.],\n",
       "        [0., 0., 0., 0.],\n",
       "        [0., 0., 0., 0.]],\n",
       "\n",
       "       [[0., 0., 0., 0.],\n",
       "        [0., 0., 0., 0.],\n",
       "        [0., 0., 0., 0.]]])"
      ]
     },
     "execution_count": 18,
     "metadata": {},
     "output_type": "execute_result"
    }
   ],
   "source": [
    "#array cuyos valores son todos 0\n",
    "np.zeros((2,3,4))"
   ]
  },
  {
   "cell_type": "code",
   "execution_count": 19,
   "id": "e2b0b70b",
   "metadata": {},
   "outputs": [
    {
     "data": {
      "text/plain": [
       "array([[[1., 1., 1., 1.],\n",
       "        [1., 1., 1., 1.],\n",
       "        [1., 1., 1., 1.]],\n",
       "\n",
       "       [[1., 1., 1., 1.],\n",
       "        [1., 1., 1., 1.],\n",
       "        [1., 1., 1., 1.]]])"
      ]
     },
     "execution_count": 19,
     "metadata": {},
     "output_type": "execute_result"
    }
   ],
   "source": [
    "# array cuyos valores son todos 1\n",
    "np.ones((2,3,4))"
   ]
  },
  {
   "cell_type": "code",
   "execution_count": 20,
   "id": "450019ee",
   "metadata": {},
   "outputs": [
    {
     "data": {
      "text/plain": [
       "array([[[8, 8, 8, 8],\n",
       "        [8, 8, 8, 8],\n",
       "        [8, 8, 8, 8]],\n",
       "\n",
       "       [[8, 8, 8, 8],\n",
       "        [8, 8, 8, 8],\n",
       "        [8, 8, 8, 8]]])"
      ]
     },
     "execution_count": 20,
     "metadata": {},
     "output_type": "execute_result"
    }
   ],
   "source": [
    "#array cuyos valores son todos el valor indicada como segundo parametro \n",
    "np.full((2,3,4),8)"
   ]
  },
  {
   "cell_type": "code",
   "execution_count": 21,
   "id": "91671056",
   "metadata": {},
   "outputs": [
    {
     "data": {
      "text/plain": [
       "array([[[1.39328325e-316, 0.00000000e+000, 6.92349625e-310,\n",
       "         6.92349623e-310, 6.92349562e-310, 6.92349212e-310,\n",
       "         6.92349565e-310, 6.92349565e-310, 6.92349624e-310],\n",
       "        [6.92349518e-310, 6.92349212e-310, 6.92349364e-310,\n",
       "         6.92349212e-310, 6.92349625e-310, 6.92349625e-310,\n",
       "         6.92349626e-310, 6.92349626e-310, 6.92349626e-310],\n",
       "        [6.92349212e-310, 6.92349212e-310, 6.92349212e-310,\n",
       "         6.92349364e-310, 6.92349212e-310, 6.92349212e-310,\n",
       "         6.92349558e-310, 6.92349212e-310, 6.92349212e-310]],\n",
       "\n",
       "       [[6.92349212e-310, 6.92349564e-310, 6.92349565e-310,\n",
       "         6.92349565e-310, 6.92349625e-310, 6.92349394e-310,\n",
       "         6.92349560e-310, 6.92349212e-310, 6.92349212e-310],\n",
       "        [6.92349212e-310, 6.92349212e-310, 6.92349212e-310,\n",
       "         6.92349212e-310, 6.92349625e-310, 6.92349460e-310,\n",
       "         6.92349212e-310, 6.92349364e-310, 6.92349626e-310],\n",
       "        [6.92349212e-310, 6.92349563e-310, 6.92349562e-310,\n",
       "         6.92349547e-310, 6.92349626e-310, 6.92349563e-310,\n",
       "         6.92349626e-310, 6.92349627e-310, 6.92349565e-310]]])"
      ]
     },
     "execution_count": 21,
     "metadata": {},
     "output_type": "execute_result"
    }
   ],
   "source": [
    "# el resultado de np.empty  no es predecible \n",
    "#inicializa los valores de arraray con lo que aya en memoria en ese momento \n",
    "np.empty((2,3,9))"
   ]
  },
  {
   "cell_type": "code",
   "execution_count": 22,
   "id": "7d91d282",
   "metadata": {},
   "outputs": [
    {
     "data": {
      "text/plain": [
       "array([[1, 2, 3],\n",
       "       [4, 5, 6]])"
      ]
     },
     "execution_count": 22,
     "metadata": {},
     "output_type": "execute_result"
    }
   ],
   "source": [
    "# inicializacion del array utilizando un array de python \n",
    "b= np.array ([[1, 2, 3,], [4, 5, 6]])\n",
    "b"
   ]
  },
  {
   "cell_type": "code",
   "execution_count": 23,
   "id": "9a8a502e",
   "metadata": {},
   "outputs": [
    {
     "name": "stdout",
     "output_type": "stream",
     "text": [
      "[0.         0.66666667 1.33333333 2.         2.66666667 3.33333333\n",
      " 4.         4.66666667 5.33333333 6.        ]\n"
     ]
    }
   ],
   "source": [
    "#creacion de un arrar utilizando una funcion  basada en rangos\n",
    "#minimos ,maximo,numero de elementos del array )\n",
    "print (np.linspace(0,6,10))"
   ]
  },
  {
   "cell_type": "code",
   "execution_count": 24,
   "id": "2c061517",
   "metadata": {},
   "outputs": [
    {
     "data": {
      "text/plain": [
       "array([[[0.33682961, 0.97330033, 0.97687557, 0.75573794],\n",
       "        [0.28018909, 0.03579803, 0.3444655 , 0.91623954],\n",
       "        [0.95978888, 0.3242825 , 0.20105615, 0.82865848]],\n",
       "\n",
       "       [[0.25364908, 0.58067789, 0.45557272, 0.7057633 ],\n",
       "        [0.52436688, 0.47137295, 0.27114605, 0.24570919],\n",
       "        [0.03653313, 0.9403492 , 0.05476464, 0.32168383]]])"
      ]
     },
     "execution_count": 24,
     "metadata": {},
     "output_type": "execute_result"
    }
   ],
   "source": [
    "# inicializacion de la arrar con valores aleatorios \n",
    "np.random.rand(2,3,4)"
   ]
  },
  {
   "cell_type": "code",
   "execution_count": 25,
   "id": "30580c8d",
   "metadata": {},
   "outputs": [
    {
     "data": {
      "text/plain": [
       "array([[-0.98965524,  2.67840033, -0.4653515 , -0.25432257],\n",
       "       [ 1.69168418, -2.16408115, -0.81123437, -0.08947206]])"
      ]
     },
     "execution_count": 25,
     "metadata": {},
     "output_type": "execute_result"
    }
   ],
   "source": [
    "#inicializacion  del array con valores aleatorios  conforme a una distribucion normal \n",
    "np.random.randn(2,4)"
   ]
  },
  {
   "cell_type": "code",
   "execution_count": 26,
   "id": "7a0ba464",
   "metadata": {},
   "outputs": [
    {
     "data": {
      "image/png": "[encoded data removed]",
      "text/plain": [
       "<Figure size 640x480 with 1 Axes>"
      ]
     },
     "metadata": {},
     "output_type": "display_data"
    }
   ],
   "source": [
    "%matplotlib inline \n",
    "import matplotlib.pyplot as plt\n",
    "c=np.random.randn(100000)\n",
    "plt.hist(c,bins=200)\n",
    "plt.show()"
   ]
  },
  {
   "cell_type": "code",
   "execution_count": 27,
   "id": "a3608cbe",
   "metadata": {},
   "outputs": [
    {
     "data": {
      "text/plain": [
       "array([[ 0.,  2.,  4.,  6.,  8.],\n",
       "       [ 1.,  3.,  5.,  7.,  9.],\n",
       "       [ 2.,  4.,  6.,  8., 10.]])"
      ]
     },
     "execution_count": 27,
     "metadata": {},
     "output_type": "execute_result"
    }
   ],
   "source": [
    "# inicializacion del array utilizando una funcion perzonalizada .\n",
    "def func(x,y):\n",
    "    return x+2*y\n",
    "np.fromfunction(func,(3,5))"
   ]
  },
  {
   "cell_type": "markdown",
   "id": "3beaf0ea",
   "metadata": {},
   "source": [
    "## Acceso a los elementos de un array"
   ]
  },
  {
   "cell_type": "markdown",
   "id": "a0a32634",
   "metadata": {},
   "source": [
    "### Array unidimencional"
   ]
  },
  {
   "cell_type": "code",
   "execution_count": 28,
   "id": "8aeb9ffe",
   "metadata": {},
   "outputs": [
    {
     "name": "stdout",
     "output_type": "stream",
     "text": [
      "Shape: (6,)\n",
      "Array_uni [ 1  2  5  7  9 11]\n"
     ]
    }
   ],
   "source": [
    "# Creacion de un arreglo unidimencional \n",
    "array_uni=np.array([1, 2, 5, 7, 9, 11])\n",
    "print(\"Shape:\", array_uni.shape)\n",
    "print(\"Array_uni\",array_uni)"
   ]
  },
  {
   "cell_type": "code",
   "execution_count": 29,
   "id": "ef714cd1",
   "metadata": {},
   "outputs": [
    {
     "data": {
      "text/plain": [
       "9"
      ]
     },
     "execution_count": 29,
     "metadata": {},
     "output_type": "execute_result"
    }
   ],
   "source": [
    "# Accediendo al quinto elemento del array \n",
    "array_uni[4]"
   ]
  },
  {
   "cell_type": "code",
   "execution_count": 30,
   "id": "a263f3d7",
   "metadata": {},
   "outputs": [
    {
     "data": {
      "text/plain": [
       "array([5, 7])"
      ]
     },
     "execution_count": 30,
     "metadata": {},
     "output_type": "execute_result"
    }
   ],
   "source": [
    "# Accediendo al tercer y cuarto  elemento del array.\n",
    "array_uni [2:4]"
   ]
  },
  {
   "cell_type": "code",
   "execution_count": 31,
   "id": "332ad7ab",
   "metadata": {},
   "outputs": [
    {
     "data": {
      "text/plain": [
       "array([1, 7])"
      ]
     },
     "execution_count": 31,
     "metadata": {},
     "output_type": "execute_result"
    }
   ],
   "source": [
    "# Accediendo a los elementos 0,3 y 5 del array \n",
    "array_uni[0::3]"
   ]
  },
  {
   "cell_type": "markdown",
   "id": "6ebf47e1",
   "metadata": {},
   "source": [
    "## Array  Multidimencional "
   ]
  },
  {
   "cell_type": "code",
   "execution_count": 32,
   "id": "564beb66",
   "metadata": {},
   "outputs": [
    {
     "name": "stdout",
     "output_type": "stream",
     "text": [
      "Shape: (2, 4)\n",
      "array_multi:\n",
      " [[1 2 3 4]\n",
      " [5 6 7 8]]\n"
     ]
    }
   ],
   "source": [
    "# creacion de un array multidimencional.\n",
    "array_multi = np.array ([[1, 2, 3, 4], [5, 6, 7, 8]])\n",
    "print(\"Shape:\", array_multi.shape)\n",
    "print(\"array_multi:\\n\", array_multi)"
   ]
  },
  {
   "cell_type": "code",
   "execution_count": 33,
   "id": "37c79497",
   "metadata": {},
   "outputs": [
    {
     "data": {
      "text/plain": [
       "4"
      ]
     },
     "execution_count": 33,
     "metadata": {},
     "output_type": "execute_result"
    }
   ],
   "source": [
    "# Accediendo al cuarto elemento del array \n",
    "array_multi[0, 3]"
   ]
  },
  {
   "cell_type": "code",
   "execution_count": 34,
   "id": "51f90b94",
   "metadata": {},
   "outputs": [
    {
     "data": {
      "text/plain": [
       "array([5, 6, 7, 8])"
      ]
     },
     "execution_count": 34,
     "metadata": {},
     "output_type": "execute_result"
    }
   ],
   "source": [
    "# Accediendo a la segunda fila del array \n",
    "array_multi[1, :]"
   ]
  },
  {
   "cell_type": "code",
   "execution_count": 35,
   "id": "b2e22374",
   "metadata": {},
   "outputs": [
    {
     "data": {
      "text/plain": [
       "array([3, 7])"
      ]
     },
     "execution_count": 35,
     "metadata": {},
     "output_type": "execute_result"
    }
   ],
   "source": [
    "#Accediendo al tercer elemento de las dos primeras filas del array \n",
    "array_multi[0:2, 2]"
   ]
  },
  {
   "cell_type": "markdown",
   "id": "b4f50ae6",
   "metadata": {},
   "source": [
    "# Modificar un Array"
   ]
  },
  {
   "cell_type": "code",
   "execution_count": 36,
   "id": "286275c2",
   "metadata": {},
   "outputs": [
    {
     "name": "stdout",
     "output_type": "stream",
     "text": [
      "Shape: (28,)\n",
      "Array 1 [ 0  1  2  3  4  5  6  7  8  9 10 11 12 13 14 15 16 17 18 19 20 21 22 23\n",
      " 24 25 26 27]\n"
     ]
    }
   ],
   "source": [
    "#Creacion  de un array unidimencional inicializado con el rango de elemento \n",
    "array1 = np.arange(28)\n",
    "print(\"Shape:\", array1.shape)\n",
    "print(\"Array 1\", array1)"
   ]
  },
  {
   "cell_type": "code",
   "execution_count": 37,
   "id": "1bf4f72e",
   "metadata": {},
   "outputs": [
    {
     "name": "stdout",
     "output_type": "stream",
     "text": [
      "Shape: (7, 4)\n",
      "Array 1:\n",
      " [[ 0  1  2  3]\n",
      " [ 4  5  6  7]\n",
      " [ 8  9 10 11]\n",
      " [12 13 14 15]\n",
      " [16 17 18 19]\n",
      " [20 21 22 23]\n",
      " [24 25 26 27]]\n"
     ]
    }
   ],
   "source": [
    "#Cambiar las dimenciones del Array y sus longitudes.\n",
    "array1.shape=(7, 4)\n",
    "print(\"Shape:\", array1.shape)\n",
    "print(\"Array 1:\\n\", array1)"
   ]
  },
  {
   "cell_type": "code",
   "execution_count": 38,
   "id": "f1d449e4",
   "metadata": {},
   "outputs": [
    {
     "name": "stdout",
     "output_type": "stream",
     "text": [
      "Shape: (4, 7)\n",
      "Array 2:\n",
      " [[ 0  1  2  3  4  5  6]\n",
      " [ 7  8  9 10 11 12 13]\n",
      " [14 15 16 17 18 19 20]\n",
      " [21 22 23 24 25 26 27]]\n"
     ]
    }
   ],
   "source": [
    "# El ejemplo anterior devuelbe un nuevo Array que apunta a los mismos dtos.\n",
    "# Importante:Modificaciones en Array , modifican el otro array \n",
    "array2=array1.reshape(4, 7)\n",
    "print(\"Shape:\",array2.shape)\n",
    "print(\"Array 2:\\n\", array2)"
   ]
  },
  {
   "cell_type": "code",
   "execution_count": 39,
   "id": "6625f03c",
   "metadata": {},
   "outputs": [
    {
     "name": "stdout",
     "output_type": "stream",
     "text": [
      "Array 2:\n",
      " [[ 0  1  2 20  4  5  6]\n",
      " [ 7  8  9 10 11 12 13]\n",
      " [14 15 16 17 18 19 20]\n",
      " [21 22 23 24 25 26 27]]\n"
     ]
    }
   ],
   "source": [
    "# Modificacion del nuevo array devuelto \n",
    "array2[0, 3]=20\n",
    "print(\"Array 2:\\n\", array2)"
   ]
  },
  {
   "cell_type": "code",
   "execution_count": 40,
   "id": "5a8c019e",
   "metadata": {},
   "outputs": [
    {
     "data": {
      "text/plain": [
       "array([[ 0,  1,  2, 20],\n",
       "       [ 4,  5,  6,  7],\n",
       "       [ 8,  9, 10, 11],\n",
       "       [12, 13, 14, 15],\n",
       "       [16, 17, 18, 19],\n",
       "       [20, 21, 22, 23],\n",
       "       [24, 25, 26, 27]])"
      ]
     },
     "execution_count": 40,
     "metadata": {},
     "output_type": "execute_result"
    }
   ],
   "source": [
    "array1"
   ]
  },
  {
   "cell_type": "code",
   "execution_count": 41,
   "id": "f922c26e",
   "metadata": {},
   "outputs": [
    {
     "name": "stdout",
     "output_type": "stream",
     "text": [
      "Array 1: [ 0  1  2 20  4  5  6  7  8  9 10 11 12 13 14 15 16 17 18 19 20 21 22 23\n",
      " 24 25 26 27]\n"
     ]
    }
   ],
   "source": [
    "# Devuelve el array , devolviendo un nuevo array de una sola dimencion\n",
    "# Importante : el nuevo array apunta a los mismos datos.\n",
    "print(\"Array 1:\", array1.ravel())"
   ]
  },
  {
   "cell_type": "markdown",
   "id": "30f8224c",
   "metadata": {},
   "source": [
    "## Operaciones aritmeticas con Array."
   ]
  },
  {
   "cell_type": "code",
   "execution_count": 42,
   "id": "3cd59964",
   "metadata": {},
   "outputs": [
    {
     "name": "stdout",
     "output_type": "stream",
     "text": [
      "Array 1: [ 2  4  6  8 10 12 14 16]\n",
      "Array 2: [0 1 2 3 4 5 6 7]\n"
     ]
    }
   ],
   "source": [
    "# Crecion de dos Arrays unidimencionales \n",
    "array1 = np.arange(2, 18, 2)\n",
    "array2 = np.arange(8)\n",
    "print(\"Array 1:\", array1)\n",
    "print(\"Array 2:\", array2)"
   ]
  },
  {
   "cell_type": "code",
   "execution_count": 43,
   "id": "22971875",
   "metadata": {},
   "outputs": [
    {
     "name": "stdout",
     "output_type": "stream",
     "text": [
      "[ 2  5  8 11 14 17 20 23]\n"
     ]
    }
   ],
   "source": [
    "# Suma \n",
    "print(array1 + array2)"
   ]
  },
  {
   "cell_type": "code",
   "execution_count": 44,
   "id": "2ff613d5",
   "metadata": {},
   "outputs": [
    {
     "name": "stdout",
     "output_type": "stream",
     "text": [
      "[2 3 4 5 6 7 8 9]\n"
     ]
    }
   ],
   "source": [
    "# Resta \n",
    "print(array1 - array2)"
   ]
  },
  {
   "cell_type": "code",
   "execution_count": 45,
   "id": "37832b2b",
   "metadata": {},
   "outputs": [
    {
     "name": "stdout",
     "output_type": "stream",
     "text": [
      "[  0   4  12  24  40  60  84 112]\n"
     ]
    }
   ],
   "source": [
    "# Multiplicacion.\n",
    "#Importante: No es una multiplicacion de matrices.\n",
    "print(array1 * array2)"
   ]
  },
  {
   "cell_type": "markdown",
   "id": "1a616b5f",
   "metadata": {},
   "source": [
    "## Broadcasting\n",
    "Si se aplican operaciones aritmeticas sobre arrays que no tienen la misma forma (shape) Numpy aplica una propiedad que se denomina Broadcasting"
   ]
  },
  {
   "cell_type": "code",
   "execution_count": 46,
   "id": "1f6556e2",
   "metadata": {},
   "outputs": [
    {
     "name": "stdout",
     "output_type": "stream",
     "text": [
      "Shape Array1: (5,)\n",
      "Array 1: [0 1 2 3 4]\n",
      "\n",
      "Shape Array 2: (1,)\n",
      "Array 2: [3]\n"
     ]
    }
   ],
   "source": [
    "# Creacion de dos Arrays unidimencionales.\n",
    "array1= np.arange(5)\n",
    "array2=np.array([3])\n",
    "print(\"Shape Array1:\", array1.shape)\n",
    "print(\"Array 1:\", array1)\n",
    "print()\n",
    "print(\"Shape Array 2:\", array2.shape)\n",
    "print(\"Array 2:\", array2)\n"
   ]
  },
  {
   "cell_type": "code",
   "execution_count": 47,
   "id": "ef4d41fd",
   "metadata": {},
   "outputs": [
    {
     "name": "stdout",
     "output_type": "stream",
     "text": [
      "Shape Array1: (2, 3)\n",
      "Array 1: [[0 1 2]\n",
      " [3 4 5]]\n",
      "\n",
      "Shape Array 2: (3,)\n",
      "Array 2: [ 6 10 14]\n"
     ]
    }
   ],
   "source": [
    "# Creacion de dos Arrays multidimencionales y unidimencional\n",
    "array1 = np.arange(6)\n",
    "array1.shape =(2,3)\n",
    "array2 = np.arange (6, 18, 4)\n",
    "print(\"Shape Array1:\", array1.shape)\n",
    "print(\"Array 1:\", array1)\n",
    "print()\n",
    "print(\"Shape Array 2:\", array2.shape)\n",
    "print(\"Array 2:\", array2)"
   ]
  },
  {
   "cell_type": "code",
   "execution_count": 48,
   "id": "8b442062",
   "metadata": {},
   "outputs": [
    {
     "data": {
      "text/plain": [
       "array([[ 6, 11, 16],\n",
       "       [ 9, 14, 19]])"
      ]
     },
     "execution_count": 48,
     "metadata": {},
     "output_type": "execute_result"
    }
   ],
   "source": [
    "# Sumar ambos Arrays \n",
    "array1 + array2"
   ]
  },
  {
   "cell_type": "markdown",
   "id": "8d6d0deb",
   "metadata": {},
   "source": [
    "## Funciones estadisticas sobre Arrays\n"
   ]
  },
  {
   "cell_type": "code",
   "execution_count": 49,
   "id": "ba1d52ee",
   "metadata": {},
   "outputs": [
    {
     "name": "stdout",
     "output_type": "stream",
     "text": [
      "Array 1: [ 1  3  5  7  9 11 13 15 17 19]\n"
     ]
    }
   ],
   "source": [
    "# Creacion de un Arrays unidimencional \n",
    "array1 = np.arange(1, 20, 2)\n",
    "print(\"Array 1:\", array1)\n"
   ]
  },
  {
   "cell_type": "code",
   "execution_count": 50,
   "id": "fa6c14cf",
   "metadata": {},
   "outputs": [
    {
     "data": {
      "text/plain": [
       "10.0"
      ]
     },
     "execution_count": 50,
     "metadata": {},
     "output_type": "execute_result"
    }
   ],
   "source": [
    "# Media de los elementos del Array \n",
    "array1.mean()"
   ]
  },
  {
   "cell_type": "code",
   "execution_count": 52,
   "id": "5c735e26",
   "metadata": {},
   "outputs": [
    {
     "data": {
      "text/plain": [
       "100"
      ]
     },
     "execution_count": 52,
     "metadata": {},
     "output_type": "execute_result"
    }
   ],
   "source": [
    "# Suma del Array.\n",
    "array1.sum()"
   ]
  },
  {
   "cell_type": "code",
   "execution_count": 54,
   "id": "e4ee1992",
   "metadata": {},
   "outputs": [
    {
     "data": {
      "text/plain": [
       "array([  1,   2,   3,   4,   5,   6,   7,   8,   9,  10,  11,  12,  13,\n",
       "        14,  15,  16,  17,  18,  19,  20,  21,  22,  23,  24,  25,  26,\n",
       "        27,  28,  29,  30,  31,  32,  33,  34,  35,  36,  37,  38,  39,\n",
       "        40,  41,  42,  43,  44,  45,  46,  47,  48,  49,  50,  51,  52,\n",
       "        53,  54,  55,  56,  57,  58,  59,  60,  61,  62,  63,  64,  65,\n",
       "        66,  67,  68,  69,  70,  71,  72,  73,  74,  75,  76,  77,  78,\n",
       "        79,  80,  81,  82,  83,  84,  85,  86,  87,  88,  89,  90,  91,\n",
       "        92,  93,  94,  95,  96,  97,  98,  99, 100, 101, 102, 103, 104,\n",
       "       105, 106, 107, 108, 109, 110, 111, 112, 113, 114, 115, 116, 117,\n",
       "       118, 119, 120, 121, 122, 123, 124, 125, 126, 127, 128, 129, 130,\n",
       "       131, 132, 133, 134, 135, 136, 137, 138, 139, 140, 141, 142, 143,\n",
       "       144, 145, 146, 147, 148, 149, 150, 151, 152, 153, 154, 155, 156,\n",
       "       157, 158, 159, 160, 161, 162, 163, 164, 165, 166, 167, 168, 169,\n",
       "       170, 171, 172, 173, 174, 175, 176, 177, 178, 179, 180, 181, 182,\n",
       "       183, 184, 185, 186, 187, 188, 189, 190, 191, 192, 193, 194, 195,\n",
       "       196, 197, 198, 199, 200])"
      ]
     },
     "execution_count": 54,
     "metadata": {},
     "output_type": "execute_result"
    }
   ],
   "source": [
    "array2 =np.arange(1, 201, 1)\n",
    "array2"
   ]
  },
  {
   "cell_type": "code",
   "execution_count": 55,
   "id": "f38f89f7",
   "metadata": {},
   "outputs": [
    {
     "data": {
      "text/plain": [
       "20100"
      ]
     },
     "execution_count": 55,
     "metadata": {},
     "output_type": "execute_result"
    }
   ],
   "source": [
    "array2.sum()"
   ]
  },
  {
   "cell_type": "markdown",
   "id": "141c0058",
   "metadata": {},
   "source": [
    "### Funciones universales proporcionadas por numpy:**ufunc.**"
   ]
  },
  {
   "cell_type": "code",
   "execution_count": 57,
   "id": "f69dac01",
   "metadata": {},
   "outputs": [
    {
     "data": {
      "text/plain": [
       "array([    1,     4,     9,    16,    25,    36,    49,    64,    81,\n",
       "         100,   121,   144,   169,   196,   225,   256,   289,   324,\n",
       "         361,   400,   441,   484,   529,   576,   625,   676,   729,\n",
       "         784,   841,   900,   961,  1024,  1089,  1156,  1225,  1296,\n",
       "        1369,  1444,  1521,  1600,  1681,  1764,  1849,  1936,  2025,\n",
       "        2116,  2209,  2304,  2401,  2500,  2601,  2704,  2809,  2916,\n",
       "        3025,  3136,  3249,  3364,  3481,  3600,  3721,  3844,  3969,\n",
       "        4096,  4225,  4356,  4489,  4624,  4761,  4900,  5041,  5184,\n",
       "        5329,  5476,  5625,  5776,  5929,  6084,  6241,  6400,  6561,\n",
       "        6724,  6889,  7056,  7225,  7396,  7569,  7744,  7921,  8100,\n",
       "        8281,  8464,  8649,  8836,  9025,  9216,  9409,  9604,  9801,\n",
       "       10000, 10201, 10404, 10609, 10816, 11025, 11236, 11449, 11664,\n",
       "       11881, 12100, 12321, 12544, 12769, 12996, 13225, 13456, 13689,\n",
       "       13924, 14161, 14400, 14641, 14884, 15129, 15376, 15625, 15876,\n",
       "       16129, 16384, 16641, 16900, 17161, 17424, 17689, 17956, 18225,\n",
       "       18496, 18769, 19044, 19321, 19600, 19881, 20164, 20449, 20736,\n",
       "       21025, 21316, 21609, 21904, 22201, 22500, 22801, 23104, 23409,\n",
       "       23716, 24025, 24336, 24649, 24964, 25281, 25600, 25921, 26244,\n",
       "       26569, 26896, 27225, 27556, 27889, 28224, 28561, 28900, 29241,\n",
       "       29584, 29929, 30276, 30625, 30976, 31329, 31684, 32041, 32400,\n",
       "       32761, 33124, 33489, 33856, 34225, 34596, 34969, 35344, 35721,\n",
       "       36100, 36481, 36864, 37249, 37636, 38025, 38416, 38809, 39204,\n",
       "       39601, 40000])"
      ]
     },
     "execution_count": 57,
     "metadata": {},
     "output_type": "execute_result"
    }
   ],
   "source": [
    "# Cuadrado de los elementos del Array \n",
    "np.square(array2)"
   ]
  },
  {
   "cell_type": "code",
   "execution_count": 58,
   "id": "df86dd5e",
   "metadata": {},
   "outputs": [
    {
     "data": {
      "text/plain": [
       "array([ 1.        ,  1.41421356,  1.73205081,  2.        ,  2.23606798,\n",
       "        2.44948974,  2.64575131,  2.82842712,  3.        ,  3.16227766,\n",
       "        3.31662479,  3.46410162,  3.60555128,  3.74165739,  3.87298335,\n",
       "        4.        ,  4.12310563,  4.24264069,  4.35889894,  4.47213595,\n",
       "        4.58257569,  4.69041576,  4.79583152,  4.89897949,  5.        ,\n",
       "        5.09901951,  5.19615242,  5.29150262,  5.38516481,  5.47722558,\n",
       "        5.56776436,  5.65685425,  5.74456265,  5.83095189,  5.91607978,\n",
       "        6.        ,  6.08276253,  6.164414  ,  6.244998  ,  6.32455532,\n",
       "        6.40312424,  6.4807407 ,  6.55743852,  6.63324958,  6.70820393,\n",
       "        6.78232998,  6.8556546 ,  6.92820323,  7.        ,  7.07106781,\n",
       "        7.14142843,  7.21110255,  7.28010989,  7.34846923,  7.41619849,\n",
       "        7.48331477,  7.54983444,  7.61577311,  7.68114575,  7.74596669,\n",
       "        7.81024968,  7.87400787,  7.93725393,  8.        ,  8.06225775,\n",
       "        8.1240384 ,  8.18535277,  8.24621125,  8.30662386,  8.36660027,\n",
       "        8.42614977,  8.48528137,  8.54400375,  8.60232527,  8.66025404,\n",
       "        8.71779789,  8.77496439,  8.83176087,  8.88819442,  8.94427191,\n",
       "        9.        ,  9.05538514,  9.11043358,  9.16515139,  9.21954446,\n",
       "        9.2736185 ,  9.32737905,  9.38083152,  9.43398113,  9.48683298,\n",
       "        9.53939201,  9.59166305,  9.64365076,  9.69535971,  9.74679434,\n",
       "        9.79795897,  9.8488578 ,  9.89949494,  9.94987437, 10.        ,\n",
       "       10.04987562, 10.09950494, 10.14889157, 10.19803903, 10.24695077,\n",
       "       10.29563014, 10.34408043, 10.39230485, 10.44030651, 10.48808848,\n",
       "       10.53565375, 10.58300524, 10.63014581, 10.67707825, 10.72380529,\n",
       "       10.77032961, 10.81665383, 10.86278049, 10.90871211, 10.95445115,\n",
       "       11.        , 11.04536102, 11.09053651, 11.13552873, 11.18033989,\n",
       "       11.22497216, 11.26942767, 11.3137085 , 11.35781669, 11.40175425,\n",
       "       11.44552314, 11.48912529, 11.53256259, 11.5758369 , 11.61895004,\n",
       "       11.66190379, 11.70469991, 11.74734012, 11.78982612, 11.83215957,\n",
       "       11.87434209, 11.91637529, 11.95826074, 12.        , 12.04159458,\n",
       "       12.08304597, 12.12435565, 12.16552506, 12.20655562, 12.24744871,\n",
       "       12.28820573, 12.32882801, 12.36931688, 12.40967365, 12.4498996 ,\n",
       "       12.489996  , 12.52996409, 12.56980509, 12.60952021, 12.64911064,\n",
       "       12.68857754, 12.72792206, 12.76714533, 12.80624847, 12.84523258,\n",
       "       12.88409873, 12.92284798, 12.9614814 , 13.        , 13.03840481,\n",
       "       13.07669683, 13.11487705, 13.15294644, 13.19090596, 13.22875656,\n",
       "       13.26649916, 13.3041347 , 13.34166406, 13.37908816, 13.41640786,\n",
       "       13.45362405, 13.49073756, 13.52774926, 13.56465997, 13.60147051,\n",
       "       13.6381817 , 13.67479433, 13.7113092 , 13.74772708, 13.78404875,\n",
       "       13.82027496, 13.85640646, 13.89244399, 13.92838828, 13.96424004,\n",
       "       14.        , 14.03566885, 14.07124728, 14.10673598, 14.14213562])"
      ]
     },
     "execution_count": 58,
     "metadata": {},
     "output_type": "execute_result"
    }
   ],
   "source": [
    "# Raiz cuadrada de los elementos del Array.\n",
    "np.sqrt(array2)"
   ]
  },
  {
   "cell_type": "code",
   "execution_count": 59,
   "id": "07f177fd",
   "metadata": {},
   "outputs": [
    {
     "data": {
      "text/plain": [
       "array([2.71828183e+00, 2.00855369e+01, 1.48413159e+02, 1.09663316e+03,\n",
       "       8.10308393e+03, 5.98741417e+04, 4.42413392e+05, 3.26901737e+06,\n",
       "       2.41549528e+07, 1.78482301e+08])"
      ]
     },
     "execution_count": 59,
     "metadata": {},
     "output_type": "execute_result"
    }
   ],
   "source": [
    "# Exponencial de los elementos del Array.\n",
    "np.exp(array1)"
   ]
  },
  {
   "cell_type": "code",
   "execution_count": 60,
   "id": "7818900c",
   "metadata": {},
   "outputs": [
    {
     "data": {
      "text/plain": [
       "array([0.        , 0.69314718, 1.09861229, 1.38629436, 1.60943791,\n",
       "       1.79175947, 1.94591015, 2.07944154, 2.19722458, 2.30258509,\n",
       "       2.39789527, 2.48490665, 2.56494936, 2.63905733, 2.7080502 ,\n",
       "       2.77258872, 2.83321334, 2.89037176, 2.94443898, 2.99573227,\n",
       "       3.04452244, 3.09104245, 3.13549422, 3.17805383, 3.21887582,\n",
       "       3.25809654, 3.29583687, 3.33220451, 3.36729583, 3.40119738,\n",
       "       3.4339872 , 3.4657359 , 3.49650756, 3.52636052, 3.55534806,\n",
       "       3.58351894, 3.61091791, 3.63758616, 3.66356165, 3.68887945,\n",
       "       3.71357207, 3.73766962, 3.76120012, 3.78418963, 3.80666249,\n",
       "       3.8286414 , 3.8501476 , 3.87120101, 3.8918203 , 3.91202301,\n",
       "       3.93182563, 3.95124372, 3.97029191, 3.98898405, 4.00733319,\n",
       "       4.02535169, 4.04305127, 4.06044301, 4.07753744, 4.09434456,\n",
       "       4.11087386, 4.12713439, 4.14313473, 4.15888308, 4.17438727,\n",
       "       4.18965474, 4.20469262, 4.21950771, 4.2341065 , 4.24849524,\n",
       "       4.26267988, 4.27666612, 4.29045944, 4.30406509, 4.31748811,\n",
       "       4.33073334, 4.34380542, 4.35670883, 4.36944785, 4.38202663,\n",
       "       4.39444915, 4.40671925, 4.41884061, 4.4308168 , 4.44265126,\n",
       "       4.4543473 , 4.46590812, 4.47733681, 4.48863637, 4.49980967,\n",
       "       4.51085951, 4.52178858, 4.53259949, 4.54329478, 4.55387689,\n",
       "       4.56434819, 4.57471098, 4.58496748, 4.59511985, 4.60517019,\n",
       "       4.61512052, 4.62497281, 4.63472899, 4.6443909 , 4.65396035,\n",
       "       4.66343909, 4.67282883, 4.68213123, 4.69134788, 4.70048037,\n",
       "       4.7095302 , 4.71849887, 4.72738782, 4.73619845, 4.74493213,\n",
       "       4.75359019, 4.76217393, 4.77068462, 4.77912349, 4.78749174,\n",
       "       4.79579055, 4.80402104, 4.81218436, 4.82028157, 4.82831374,\n",
       "       4.83628191, 4.84418709, 4.85203026, 4.8598124 , 4.86753445,\n",
       "       4.87519732, 4.88280192, 4.89034913, 4.8978398 , 4.90527478,\n",
       "       4.91265489, 4.91998093, 4.92725369, 4.93447393, 4.94164242,\n",
       "       4.94875989, 4.95582706, 4.96284463, 4.9698133 , 4.97673374,\n",
       "       4.98360662, 4.99043259, 4.99721227, 5.00394631, 5.01063529,\n",
       "       5.01727984, 5.02388052, 5.03043792, 5.0369526 , 5.04342512,\n",
       "       5.04985601, 5.05624581, 5.06259503, 5.0689042 , 5.07517382,\n",
       "       5.08140436, 5.08759634, 5.0937502 , 5.09986643, 5.10594547,\n",
       "       5.11198779, 5.11799381, 5.12396398, 5.12989871, 5.13579844,\n",
       "       5.14166356, 5.14749448, 5.15329159, 5.1590553 , 5.16478597,\n",
       "       5.170484  , 5.17614973, 5.18178355, 5.18738581, 5.19295685,\n",
       "       5.19849703, 5.20400669, 5.20948615, 5.21493576, 5.22035583,\n",
       "       5.22574667, 5.23110862, 5.23644196, 5.24174702, 5.24702407,\n",
       "       5.25227343, 5.25749537, 5.26269019, 5.26785816, 5.27299956,\n",
       "       5.27811466, 5.28320373, 5.28826703, 5.29330482, 5.29831737])"
      ]
     },
     "execution_count": 60,
     "metadata": {},
     "output_type": "execute_result"
    }
   ],
   "source": [
    "# Logaritmo natural de los elementos  del Array.\n",
    "np.log(array2)"
   ]
  },
  {
   "cell_type": "code",
   "execution_count": null,
   "id": "c4fc0237",
   "metadata": {},
   "outputs": [],
   "source": []
  }
 ],
 "metadata": {
  "kernelspec": {
   "display_name": "Python 3 (ipykernel)",
   "language": "python",
   "name": "python3"
  },
  "language_info": {
   "codemirror_mode": {
    "name": "ipython",
    "version": 3
   },
   "file_extension": ".py",
   "mimetype": "text/x-python",
   "name": "python",
   "nbconvert_exporter": "python",
   "pygments_lexer": "ipython3",
   "version": "3.10.9"
  }
 },
 "nbformat": 4,
 "nbformat_minor": 5
}
